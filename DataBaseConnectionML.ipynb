{
 "cells": [
  {
   "cell_type": "code",
   "execution_count": null,
   "metadata": {},
   "outputs": [],
   "source": [
    "#DataBase Connection\n",
    "\n",
    "import pandas as pd\n",
    "from sqlalchemy import create_engine\n",
    "\n",
    "server = '182.72.175.14'  \n",
    "database = 'MediciDev' \n",
    "username = 'medici'  \n",
    "password = 'medici'  \n",
    "driver = 'ODBC+Driver+17+for+SQL+Server'\n",
    "\n",
    "connection_url = f\"mssql+pyodbc://{username}:{password}@{server}/{database}?driver={driver}\"\n",
    "\n",
    "engine = create_engine(connection_url)\n",
    "\n",
    "query = \"SELECT * FROM mstUserRoles\"  \n",
    "\n",
    "df = pd.read_sql(query, engine)\n",
    "\n",
    "# for i in df :\n",
    "#     print(df['RoleName'])\n",
    "\n",
    "\n",
    "df.to_csv(r'D:\\MediciTable.csv')\n"
   ]
  }
 ],
 "metadata": {
  "language_info": {
   "name": "python"
  }
 },
 "nbformat": 4,
 "nbformat_minor": 2
}
